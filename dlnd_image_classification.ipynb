{
 "cells": [
  {
   "cell_type": "markdown",
   "metadata": {
    "collapsed": true,
    "deletable": true,
    "editable": true
   },
   "source": [
    "# Image Classification\n",
    "In this project, you'll classify images from the [CIFAR-10 dataset](https://www.cs.toronto.edu/~kriz/cifar.html).  The dataset consists of airplanes, dogs, cats, and other objects. You'll preprocess the images, then train a convolutional neural network on all the samples. The images need to be normalized and the labels need to be one-hot encoded.  You'll get to apply what you learned and build a convolutional, max pooling, dropout, and fully connected layers.  At the end, you'll get to see your neural network's predictions on the sample images.\n",
    "## Get the Data\n",
    "Run the following cell to download the [CIFAR-10 dataset for python](https://www.cs.toronto.edu/~kriz/cifar-10-python.tar.gz)."
   ]
  },
  {
   "cell_type": "code",
   "execution_count": 2,
   "metadata": {
    "collapsed": false,
    "deletable": true,
    "editable": true
   },
   "outputs": [
    {
     "name": "stdout",
     "output_type": "stream",
     "text": [
      "All files found!\n"
     ]
    }
   ],
   "source": [
    "\"\"\"\n",
    "DON'T MODIFY ANYTHING IN THIS CELL THAT IS BELOW THIS LINE\n",
    "\"\"\"\n",
    "from urllib.request import urlretrieve\n",
    "from os.path import isfile, isdir\n",
    "from tqdm import tqdm\n",
    "import problem_unittests as tests\n",
    "import tarfile\n",
    "\n",
    "cifar10_dataset_folder_path = 'cifar-10-batches-py'\n",
    "\n",
    "class DLProgress(tqdm):\n",
    "    last_block = 0\n",
    "\n",
    "    def hook(self, block_num=1, block_size=1, total_size=None):\n",
    "        self.total = total_size\n",
    "        self.update((block_num - self.last_block) * block_size)\n",
    "        self.last_block = block_num\n",
    "\n",
    "if not isfile('cifar-10-python.tar.gz'):\n",
    "    with DLProgress(unit='B', unit_scale=True, miniters=1, desc='CIFAR-10 Dataset') as pbar:\n",
    "        urlretrieve(\n",
    "            'https://www.cs.toronto.edu/~kriz/cifar-10-python.tar.gz',\n",
    "            'cifar-10-python.tar.gz',\n",
    "            pbar.hook)\n",
    "\n",
    "if not isdir(cifar10_dataset_folder_path):\n",
    "    with tarfile.open('cifar-10-python.tar.gz') as tar:\n",
    "        tar.extractall()\n",
    "        tar.close()\n",
    "\n",
    "\n",
    "tests.test_folder_path(cifar10_dataset_folder_path)"
   ]
  },
  {
   "cell_type": "markdown",
   "metadata": {
    "deletable": true,
    "editable": true
   },
   "source": [
    "## Explore the Data\n",
    "The dataset is broken into batches to prevent your machine from running out of memory.  The CIFAR-10 dataset consists of 5 batches, named `data_batch_1`, `data_batch_2`, etc.. Each batch contains the labels and images that are one of the following:\n",
    "* airplane\n",
    "* automobile\n",
    "* bird\n",
    "* cat\n",
    "* deer\n",
    "* dog\n",
    "* frog\n",
    "* horse\n",
    "* ship\n",
    "* truck\n",
    "\n",
    "Understanding a dataset is part of making predictions on the data.  Play around with the code cell below by changing the `batch_id` and `sample_id`. The `batch_id` is the id for a batch (1-5). The `sample_id` is the id for a image and label pair in the batch.\n",
    "\n",
    "Ask yourself \"What are all possible labels?\", \"What is the range of values for the image data?\", \"Are the labels in order or random?\".  Answers to questions like these will help you preprocess the data and end up with better predictions."
   ]
  },
  {
   "cell_type": "code",
   "execution_count": 3,
   "metadata": {
    "collapsed": false,
    "deletable": true,
    "editable": true,
    "scrolled": true
   },
   "outputs": [
    {
     "name": "stdout",
     "output_type": "stream",
     "text": [
      "\n",
      "Stats of batch 5:\n",
      "Samples: 10000\n",
      "Label Counts: {0: 1014, 1: 1014, 2: 952, 3: 1016, 4: 997, 5: 1025, 6: 980, 7: 977, 8: 1003, 9: 1022}\n",
      "First 20 Labels: [1, 8, 5, 1, 5, 7, 4, 3, 8, 2, 7, 2, 0, 1, 5, 9, 6, 2, 0, 8]\n",
      "\n",
      "Example of Image 1200:\n",
      "Image - Min Value: 31 Max Value: 209\n",
      "Image - Shape: (32, 32, 3)\n",
      "Label - Label Id: 0 Name: airplane\n"
     ]
    },
    {
     "data": {
      "image/png": "iVBORw0KGgoAAAANSUhEUgAAAfoAAAH0CAYAAADVH+85AAAABHNCSVQICAgIfAhkiAAAAAlwSFlz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\n8vOe7gAAAABJRU5ErkJggg==\n",
      "text/plain": [
       "<matplotlib.figure.Figure at 0x7fe6267a0f28>"
      ]
     },
     "metadata": {
      "image/png": {
       "height": 250,
       "width": 253
      }
     },
     "output_type": "display_data"
    }
   ],
   "source": [
    "%matplotlib inline\n",
    "%config InlineBackend.figure_format = 'retina'\n",
    "\n",
    "import helper\n",
    "import numpy as np\n",
    "\n",
    "# Explore the dataset\n",
    "batch_id = 5\n",
    "sample_id = 1200\n",
    "helper.display_stats(cifar10_dataset_folder_path, batch_id, sample_id)"
   ]
  },
  {
   "cell_type": "markdown",
   "metadata": {
    "deletable": true,
    "editable": true
   },
   "source": [
    "## Implement Preprocess Functions\n",
    "### Normalize\n",
    "In the cell below, implement the `normalize` function to take in image data, `x`, and return it as a normalized Numpy array. The values should be in the range of 0 to 1, inclusive.  The return object should be the same shape as `x`."
   ]
  },
  {
   "cell_type": "code",
   "execution_count": 4,
   "metadata": {
    "collapsed": false,
    "deletable": true,
    "editable": true
   },
   "outputs": [
    {
     "name": "stdout",
     "output_type": "stream",
     "text": [
      "Tests Passed\n"
     ]
    }
   ],
   "source": [
    "def normalize(x):\n",
    "    \"\"\"\n",
    "    Normalize a list of sample image data in the range of 0 to 1\n",
    "    : x: List of image data.  The image shape is (32, 32, 3)\n",
    "    : return: Numpy array of normalize data\n",
    "    \"\"\"\n",
    "    # TODO: Implement Function\n",
    "\n",
    "    return np.array((x-np.min(x)) / (np.max(x)-np.min(x)))\n",
    "\n",
    "\n",
    "\"\"\"\n",
    "DON'T MODIFY ANYTHING IN THIS CELL THAT IS BELOW THIS LINE\n",
    "\"\"\"\n",
    "tests.test_normalize(normalize)"
   ]
  },
  {
   "cell_type": "markdown",
   "metadata": {
    "deletable": true,
    "editable": true
   },
   "source": [
    "### One-hot encode\n",
    "Just like the previous code cell, you'll be implementing a function for preprocessing.  This time, you'll implement the `one_hot_encode` function. The input, `x`, are a list of labels.  Implement the function to return the list of labels as One-Hot encoded Numpy array.  The possible values for labels are 0 to 9. The one-hot encoding function should return the same encoding for each value between each call to `one_hot_encode`.  Make sure to save the map of encodings outside the function.\n",
    "\n",
    "Hint: Don't reinvent the wheel."
   ]
  },
  {
   "cell_type": "code",
   "execution_count": 5,
   "metadata": {
    "collapsed": false,
    "deletable": true,
    "editable": true
   },
   "outputs": [
    {
     "name": "stdout",
     "output_type": "stream",
     "text": [
      "Tests Passed\n"
     ]
    }
   ],
   "source": [
    "def one_hot_encode(x):\n",
    "    \"\"\"\n",
    "    One hot encode a list of sample labels. Return a one-hot encoded vector for each label.\n",
    "    : x: List of sample Labels\n",
    "    : return: Numpy array of one-hot encoded labels\n",
    "    \"\"\"\n",
    "    # TODO: Implement Function\n",
    "    from sklearn import preprocessing\n",
    "    labels = np.array(x)\n",
    "    lb = preprocessing.LabelBinarizer()\n",
    "    lb.fit(labels)\n",
    "    lb.classes_ = np.array(list(range(10)))\n",
    "    output = lb.transform(labels)\n",
    "    return output\n",
    "\n",
    "\n",
    "\"\"\"\n",
    "DON'T MODIFY ANYTHING IN THIS CELL THAT IS BELOW THIS LINE\n",
    "\"\"\"\n",
    "tests.test_one_hot_encode(one_hot_encode)"
   ]
  },
  {
   "cell_type": "markdown",
   "metadata": {
    "deletable": true,
    "editable": true
   },
   "source": [
    "### Randomize Data\n",
    "As you saw from exploring the data above, the order of the samples are randomized.  It doesn't hurt to randomize it again, but you don't need to for this dataset."
   ]
  },
  {
   "cell_type": "markdown",
   "metadata": {
    "deletable": true,
    "editable": true
   },
   "source": [
    "## Preprocess all the data and save it\n",
    "Running the code cell below will preprocess all the CIFAR-10 data and save it to file. The code below also uses 10% of the training data for validation."
   ]
  },
  {
   "cell_type": "code",
   "execution_count": 6,
   "metadata": {
    "collapsed": false,
    "deletable": true,
    "editable": true
   },
   "outputs": [],
   "source": [
    "\"\"\"\n",
    "DON'T MODIFY ANYTHING IN THIS CELL\n",
    "\"\"\"\n",
    "# Preprocess Training, Validation, and Testing Data\n",
    "helper.preprocess_and_save_data(cifar10_dataset_folder_path, normalize, one_hot_encode)"
   ]
  },
  {
   "cell_type": "markdown",
   "metadata": {
    "deletable": true,
    "editable": true
   },
   "source": [
    "# Check Point\n",
    "This is your first checkpoint.  If you ever decide to come back to this notebook or have to restart the notebook, you can start from here.  The preprocessed data has been saved to disk."
   ]
  },
  {
   "cell_type": "code",
   "execution_count": 7,
   "metadata": {
    "collapsed": true,
    "deletable": true,
    "editable": true
   },
   "outputs": [],
   "source": [
    "\"\"\"\n",
    "DON'T MODIFY ANYTHING IN THIS CELL\n",
    "\"\"\"\n",
    "import pickle\n",
    "import problem_unittests as tests\n",
    "import helper\n",
    "\n",
    "# Load the Preprocessed Validation data\n",
    "valid_features, valid_labels = pickle.load(open('preprocess_validation.p', mode='rb'))"
   ]
  },
  {
   "cell_type": "markdown",
   "metadata": {
    "deletable": true,
    "editable": true
   },
   "source": [
    "## Build the network\n",
    "For the neural network, you'll build each layer into a function.  Most of the code you've seen has been outside of functions. To test your code more thoroughly, we require that you put each layer in a function.  This allows us to give you better feedback and test for simple mistakes using our unittests before you submit your project.\n",
    "\n",
    ">**Note:** If you're finding it hard to dedicate enough time for this course each week, we've provided a small shortcut to this part of the project. In the next couple of problems, you'll have the option to use classes from the [TensorFlow Layers](https://www.tensorflow.org/api_docs/python/tf/layers) or [TensorFlow Layers (contrib)](https://www.tensorflow.org/api_guides/python/contrib.layers) packages to build each layer, except the layers you build in the \"Convolutional and Max Pooling Layer\" section.  TF Layers is similar to Keras's and TFLearn's abstraction to layers, so it's easy to pickup.\n",
    "\n",
    ">However, if you would like to get the most out of this course, try to solve all the problems _without_ using anything from the TF Layers packages. You **can** still use classes from other packages that happen to have the same name as ones you find in TF Layers! For example, instead of using the TF Layers version of the `conv2d` class, [tf.layers.conv2d](https://www.tensorflow.org/api_docs/python/tf/layers/conv2d), you would want to use the TF Neural Network version of `conv2d`, [tf.nn.conv2d](https://www.tensorflow.org/api_docs/python/tf/nn/conv2d). \n",
    "\n",
    "Let's begin!\n",
    "\n",
    "### Input\n",
    "The neural network needs to read the image data, one-hot encoded labels, and dropout keep probability. Implement the following functions\n",
    "* Implement `neural_net_image_input`\n",
    " * Return a [TF Placeholder](https://www.tensorflow.org/api_docs/python/tf/placeholder)\n",
    " * Set the shape using `image_shape` with batch size set to `None`.\n",
    " * Name the TensorFlow placeholder \"x\" using the TensorFlow `name` parameter in the [TF Placeholder](https://www.tensorflow.org/api_docs/python/tf/placeholder).\n",
    "* Implement `neural_net_label_input`\n",
    " * Return a [TF Placeholder](https://www.tensorflow.org/api_docs/python/tf/placeholder)\n",
    " * Set the shape using `n_classes` with batch size set to `None`.\n",
    " * Name the TensorFlow placeholder \"y\" using the TensorFlow `name` parameter in the [TF Placeholder](https://www.tensorflow.org/api_docs/python/tf/placeholder).\n",
    "* Implement `neural_net_keep_prob_input`\n",
    " * Return a [TF Placeholder](https://www.tensorflow.org/api_docs/python/tf/placeholder) for dropout keep probability.\n",
    " * Name the TensorFlow placeholder \"keep_prob\" using the TensorFlow `name` parameter in the [TF Placeholder](https://www.tensorflow.org/api_docs/python/tf/placeholder).\n",
    "\n",
    "These names will be used at the end of the project to load your saved model.\n",
    "\n",
    "Note: `None` for shapes in TensorFlow allow for a dynamic size."
   ]
  },
  {
   "cell_type": "code",
   "execution_count": 8,
   "metadata": {
    "collapsed": false,
    "deletable": true,
    "editable": true
   },
   "outputs": [
    {
     "name": "stdout",
     "output_type": "stream",
     "text": [
      "Image Input Tests Passed.\n",
      "Label Input Tests Passed.\n",
      "Keep Prob Tests Passed.\n"
     ]
    }
   ],
   "source": [
    "import tensorflow as tf\n",
    "\n",
    "def neural_net_image_input(image_shape):\n",
    "    \"\"\"\n",
    "    Return a Tensor for a bach of image input\n",
    "    : image_shape: Shape of the images\n",
    "    : return: Tensor for image input.\n",
    "    \"\"\"\n",
    "    # TODO: Implement Function\n",
    "    #image_input = tf.placeholder(tf.float32,shape = [None] + list(image_shape),name=\"x\")\n",
    "    return tf.placeholder(tf.float32, np.append(None, image_shape), 'x')\n",
    "\n",
    "\n",
    "def neural_net_label_input(n_classes):\n",
    "    \"\"\"\n",
    "    Return a Tensor for a batch of label input\n",
    "    : n_classes: Number of classes\n",
    "    : return: Tensor for label input.\n",
    "    \"\"\"\n",
    "    # TODO: Implement Function\n",
    "    label_input = tf.placeholder(tf.float32,shape =[None,n_classes], name = \"y\")\n",
    "    return label_input\n",
    "\n",
    "\n",
    "def neural_net_keep_prob_input():\n",
    "    \"\"\"\n",
    "    Return a Tensor for keep probability\n",
    "    : return: Tensor for keep probability.\n",
    "    \"\"\"\n",
    "    # TODO: Implement Function\n",
    "    prob_input = tf.placeholder(tf.float32,name = \"keep_prob\")\n",
    "    return prob_input\n",
    "\n",
    "\n",
    "\"\"\"\n",
    "DON'T MODIFY ANYTHING IN THIS CELL THAT IS BELOW THIS LINE\n",
    "\"\"\"\n",
    "tf.reset_default_graph()\n",
    "tests.test_nn_image_inputs(neural_net_image_input)\n",
    "tests.test_nn_label_inputs(neural_net_label_input)\n",
    "tests.test_nn_keep_prob_inputs(neural_net_keep_prob_input)"
   ]
  },
  {
   "cell_type": "markdown",
   "metadata": {
    "deletable": true,
    "editable": true
   },
   "source": [
    "### Convolution and Max Pooling Layer\n",
    "Convolution layers have a lot of success with images. For this code cell, you should implement the function `conv2d_maxpool` to apply convolution then max pooling:\n",
    "* Create the weight and bias using `conv_ksize`, `conv_num_outputs` and the shape of `x_tensor`.\n",
    "* Apply a convolution to `x_tensor` using weight and `conv_strides`.\n",
    " * We recommend you use same padding, but you're welcome to use any padding.\n",
    "* Add bias\n",
    "* Add a nonlinear activation to the convolution.\n",
    "* Apply Max Pooling using `pool_ksize` and `pool_strides`.\n",
    " * We recommend you use same padding, but you're welcome to use any padding.\n",
    "\n",
    "**Note:** You **can't** use [TensorFlow Layers](https://www.tensorflow.org/api_docs/python/tf/layers) or [TensorFlow Layers (contrib)](https://www.tensorflow.org/api_guides/python/contrib.layers) for **this** layer, but you can still use TensorFlow's [Neural Network](https://www.tensorflow.org/api_docs/python/tf/nn) package. You may still use the shortcut option for all the **other** layers."
   ]
  },
  {
   "cell_type": "code",
   "execution_count": 9,
   "metadata": {
    "collapsed": false,
    "deletable": true,
    "editable": true
   },
   "outputs": [
    {
     "name": "stdout",
     "output_type": "stream",
     "text": [
      "Tests Passed\n"
     ]
    }
   ],
   "source": [
    "def conv2d_maxpool(x_tensor, conv_num_outputs, conv_ksize, conv_strides, pool_ksize, pool_strides):\n",
    "    \"\"\"\n",
    "    Apply convolution then max pooling to x_tensor\n",
    "    :param x_tensor: TensorFlow Tensor\n",
    "    :param conv_num_outputs: Number of outputs for the convolutional layer\n",
    "    :param conv_ksize: kernal size 2-D Tuple for the convolutional layer\n",
    "    :param conv_strides: Stride 2-D Tuple for convolution\n",
    "    :param pool_ksize: kernal size 2-D Tuple for pool\n",
    "    :param pool_strides: Stride 2-D Tuple for pool\n",
    "    : return: A tensor that represents convolution and max pooling of x_tensor\n",
    "    \"\"\"\n",
    "    # TODO: Implement Function\n",
    "    #wrong code:  color_channels = tf.shape(x_tensor,out_type=tf.int32)[3]\n",
    "    color_channels = int(x_tensor.get_shape()[-1]) # get the 3rd dimension of shape(2,2,?,1)\n",
    "    \n",
    "    weight = tf.Variable(tf.truncated_normal([*conv_ksize, \n",
    "                                              color_channels, \n",
    "                                              conv_num_outputs], \n",
    "                                             dtype=tf.float32,\n",
    "                                            mean=0.0,\n",
    "                                            stddev = 0.01)) # get weight variable\n",
    "    \n",
    "    bias = tf.Variable(tf.zeros(conv_num_outputs)) # get bias varaible\n",
    "    \n",
    "    conv_layer = tf.nn.conv2d(input=x_tensor, \n",
    "                              filter=weight, \n",
    "                              strides =[1,*conv_strides,1], \n",
    "                              padding='SAME') # conv layer\n",
    "    \n",
    "    conv_layer = tf.nn.bias_add(conv_layer, bias) # combine bias\n",
    "\n",
    "    \n",
    "    conv_layer = tf.nn.max_pool(conv_layer,\n",
    "                                ksize=[1, *pool_ksize,1],\n",
    "                                strides=[1, *pool_strides,1],\n",
    "                                padding='SAME') # max_pool layer\n",
    "    return conv_layer \n",
    "\n",
    "\"\"\"\n",
    "DON'T MODIFY ANYTHING IN THIS CELL THAT IS BELOW THIS LINE\n",
    "\"\"\"\n",
    "tests.test_con_pool(conv2d_maxpool)"
   ]
  },
  {
   "cell_type": "markdown",
   "metadata": {
    "deletable": true,
    "editable": true
   },
   "source": [
    "### Flatten Layer\n",
    "Implement the `flatten` function to change the dimension of `x_tensor` from a 4-D tensor to a 2-D tensor.  The output should be the shape (*Batch Size*, *Flattened Image Size*). Shortcut option: you can use classes from the [TensorFlow Layers](https://www.tensorflow.org/api_docs/python/tf/layers) or [TensorFlow Layers (contrib)](https://www.tensorflow.org/api_guides/python/contrib.layers) packages for this layer. For more of a challenge, only use other TensorFlow packages."
   ]
  },
  {
   "cell_type": "code",
   "execution_count": 10,
   "metadata": {
    "collapsed": false,
    "deletable": true,
    "editable": true
   },
   "outputs": [
    {
     "name": "stdout",
     "output_type": "stream",
     "text": [
      "Tests Passed\n"
     ]
    }
   ],
   "source": [
    "def flatten(x_tensor):\n",
    "    \"\"\"\n",
    "    Flatten x_tensor to (Batch Size, Flattened Image Size)\n",
    "    : x_tensor: A tensor of size (Batch Size, ...), where ... are the image dimensions.\n",
    "    : return: A tensor of size (Batch Size, Flattened Image Size).\n",
    "    \"\"\"\n",
    "    # TODO: Implement Function\n",
    "    return tf.contrib.layers.flatten(x_tensor)\n",
    "\n",
    "\n",
    "\"\"\"\n",
    "DON'T MODIFY ANYTHING IN THIS CELL THAT IS BELOW THIS LINE\n",
    "\"\"\"\n",
    "tests.test_flatten(flatten)"
   ]
  },
  {
   "cell_type": "markdown",
   "metadata": {
    "deletable": true,
    "editable": true
   },
   "source": [
    "### Fully-Connected Layer\n",
    "Implement the `fully_conn` function to apply a fully connected layer to `x_tensor` with the shape (*Batch Size*, *num_outputs*). Shortcut option: you can use classes from the [TensorFlow Layers](https://www.tensorflow.org/api_docs/python/tf/layers) or [TensorFlow Layers (contrib)](https://www.tensorflow.org/api_guides/python/contrib.layers) packages for this layer. For more of a challenge, only use other TensorFlow packages."
   ]
  },
  {
   "cell_type": "code",
   "execution_count": 11,
   "metadata": {
    "collapsed": false,
    "deletable": true,
    "editable": true
   },
   "outputs": [
    {
     "name": "stdout",
     "output_type": "stream",
     "text": [
      "Tests Passed\n"
     ]
    }
   ],
   "source": [
    "def fully_conn(x_tensor, num_outputs):\n",
    "    \"\"\"\n",
    "    Apply a fully connected layer to x_tensor using weight and bias\n",
    "    : x_tensor: A 2-D tensor where the first dimension is batch size.\n",
    "    : num_outputs: The number of output that the new tensor should be.\n",
    "    : return: A 2-D tensor where the second dimension is num_outputs.\n",
    "    \"\"\"\n",
    "    # TODO: Implement Function\n",
    "    return tf.contrib.layers.fully_connected(x_tensor, num_outputs,activation_fn=tf.nn.relu)\n",
    "\n",
    "\n",
    "\"\"\"\n",
    "DON'T MODIFY ANYTHING IN THIS CELL THAT IS BELOW THIS LINE\n",
    "\"\"\"\n",
    "tests.test_fully_conn(fully_conn)"
   ]
  },
  {
   "cell_type": "markdown",
   "metadata": {
    "deletable": true,
    "editable": true
   },
   "source": [
    "### Output Layer\n",
    "Implement the `output` function to apply a fully connected layer to `x_tensor` with the shape (*Batch Size*, *num_outputs*). Shortcut option: you can use classes from the [TensorFlow Layers](https://www.tensorflow.org/api_docs/python/tf/layers) or [TensorFlow Layers (contrib)](https://www.tensorflow.org/api_guides/python/contrib.layers) packages for this layer. For more of a challenge, only use other TensorFlow packages.\n",
    "\n",
    "**Note:** Activation, softmax, or cross entropy should **not** be applied to this."
   ]
  },
  {
   "cell_type": "code",
   "execution_count": 12,
   "metadata": {
    "collapsed": false,
    "deletable": true,
    "editable": true
   },
   "outputs": [
    {
     "name": "stdout",
     "output_type": "stream",
     "text": [
      "Tests Passed\n"
     ]
    }
   ],
   "source": [
    "def output(x_tensor, num_outputs):\n",
    "    \"\"\"\n",
    "    Apply a output layer to x_tensor using weight and bias\n",
    "    : x_tensor: A 2-D tensor where the first dimension is batch size.\n",
    "    : num_outputs: The number of output that the new tensor should be.\n",
    "    : return: A 2-D tensor where the second dimension is num_outputs.\n",
    "    \"\"\"\n",
    "    # TODO: Implement Function\n",
    "    return tf.contrib.layers.fully_connected(x_tensor, num_outputs)\n",
    "\n",
    "\n",
    "\"\"\"\n",
    "DON'T MODIFY ANYTHING IN THIS CELL THAT IS BELOW THIS LINE\n",
    "\"\"\"\n",
    "tests.test_output(output)"
   ]
  },
  {
   "cell_type": "markdown",
   "metadata": {
    "deletable": true,
    "editable": true
   },
   "source": [
    "### Create Convolutional Model\n",
    "Implement the function `conv_net` to create a convolutional neural network model. The function takes in a batch of images, `x`, and outputs logits.  Use the layers you created above to create this model:\n",
    "\n",
    "* Apply 1, 2, or 3 Convolution and Max Pool layers\n",
    "* Apply a Flatten Layer\n",
    "* Apply 1, 2, or 3 Fully Connected Layers\n",
    "* Apply an Output Layer\n",
    "* Return the output\n",
    "* Apply [TensorFlow's Dropout](https://www.tensorflow.org/api_docs/python/tf/nn/dropout) to one or more layers in the model using `keep_prob`. "
   ]
  },
  {
   "cell_type": "code",
   "execution_count": 13,
   "metadata": {
    "collapsed": false,
    "deletable": true,
    "editable": true
   },
   "outputs": [
    {
     "name": "stdout",
     "output_type": "stream",
     "text": [
      "Neural Network Built!\n"
     ]
    }
   ],
   "source": [
    "def conv_net(x, keep_prob):\n",
    "    \n",
    "    \"\"\"\n",
    "    Create a convolutional neural network model\n",
    "    : x: Placeholder tensor that holds image data.\n",
    "    : keep_prob: Placeholder tensor that hold dropout keep probability.\n",
    "    : return: Tensor that represents logits\n",
    "    \"\"\"\n",
    "    # TODO: Apply 1, 2, or 3 Convolution and Max Pool layers\n",
    "    #    Play around with different number of outputs, kernel size and stride\n",
    "    # Function Definition from Above:\n",
    "    \n",
    "    conv_1 = conv2d_maxpool(x, conv_num_outputs=24, \n",
    "                             conv_ksize=(3,3), \n",
    "                             conv_strides=(1,1), \n",
    "                             pool_ksize=(2,2), \n",
    "                             pool_strides=(2,2))\n",
    "    \n",
    "    conv_2 = conv2d_maxpool(conv_1, conv_num_outputs=48, \n",
    "                             conv_ksize=(3,3), \n",
    "                             conv_strides=(1,1), \n",
    "                             pool_ksize=(2,2), \n",
    "                             pool_strides=(2,2))\n",
    "\n",
    "    conv_3 = conv2d_maxpool(conv_2, conv_num_outputs=96, \n",
    "                             conv_ksize=(3,3), \n",
    "                             conv_strides=(1,1), \n",
    "                             pool_ksize=(2,2), \n",
    "                             pool_strides=(2,2))\n",
    "        \n",
    "    # TODO: Apply a Flatten Layer\n",
    "    # Function Definition from Above:\n",
    "    layer_flatten = flatten(conv_3)\n",
    "    conv_3 = tf.nn.dropout(layer_flatten, keep_prob)\n",
    "\n",
    "    # TODO: Apply 1, 2, or 3 Fully Connected Layers\n",
    "    #    Play around with different number of outputs\n",
    "    # Function Definition from Above:\n",
    "    \n",
    "    fully_conn_1 = fully_conn(layer_flatten, 512)\n",
    "    fully_conn_2 = fully_conn(fully_conn_1, 512)\n",
    "    \n",
    "    \n",
    "    # TODO: Apply an Output Layer\n",
    "    #    Set this to the number of classes\n",
    "    # Function Definition from Above:\n",
    "    num_outputs = 10\n",
    "    output_layer = output(fully_conn_2, num_outputs)\n",
    "    \n",
    "    \n",
    "    # TODO: return output\n",
    "    return output_layer\n",
    "\n",
    "\n",
    "\"\"\"\n",
    "DON'T MODIFY ANYTHING IN THIS CELL THAT IS BELOW THIS LINE\n",
    "\"\"\"\n",
    "\n",
    "##############################\n",
    "## Build the Neural Network ##\n",
    "##############################\n",
    "\n",
    "# Remove previous weights, bias, inputs, etc..\n",
    "tf.reset_default_graph()\n",
    "\n",
    "# Inputs\n",
    "x = neural_net_image_input((32, 32, 3))\n",
    "y = neural_net_label_input(10)\n",
    "keep_prob = neural_net_keep_prob_input()\n",
    "\n",
    "# Model\n",
    "logits = conv_net(x, keep_prob)\n",
    "\n",
    "# Name logits Tensor, so that is can be loaded from disk after training\n",
    "logits = tf.identity(logits, name='logits')\n",
    "\n",
    "# Loss and Optimizer\n",
    "cost = tf.reduce_mean(tf.nn.softmax_cross_entropy_with_logits(logits=logits, labels=y))\n",
    "optimizer = tf.train.AdamOptimizer().minimize(cost)\n",
    "\n",
    "# Accuracy\n",
    "correct_pred = tf.equal(tf.argmax(logits, 1), tf.argmax(y, 1))\n",
    "accuracy = tf.reduce_mean(tf.cast(correct_pred, tf.float32), name='accuracy')\n",
    "\n",
    "tests.test_conv_net(conv_net)"
   ]
  },
  {
   "cell_type": "markdown",
   "metadata": {
    "deletable": true,
    "editable": true
   },
   "source": [
    "## Train the Neural Network\n",
    "### Single Optimization\n",
    "Implement the function `train_neural_network` to do a single optimization.  The optimization should use `optimizer` to optimize in `session` with a `feed_dict` of the following:\n",
    "* `x` for image input\n",
    "* `y` for labels\n",
    "* `keep_prob` for keep probability for dropout\n",
    "\n",
    "This function will be called for each batch, so `tf.global_variables_initializer()` has already been called.\n",
    "\n",
    "Note: Nothing needs to be returned. This function is only optimizing the neural network."
   ]
  },
  {
   "cell_type": "code",
   "execution_count": 14,
   "metadata": {
    "collapsed": false,
    "deletable": true,
    "editable": true
   },
   "outputs": [
    {
     "name": "stdout",
     "output_type": "stream",
     "text": [
      "Tests Passed\n"
     ]
    }
   ],
   "source": [
    "def train_neural_network(session, optimizer, keep_probability, feature_batch, label_batch):\n",
    "    \"\"\"\n",
    "    Optimize the session on a batch of images and labels\n",
    "    : session: Current TensorFlow session\n",
    "    : optimizer: TensorFlow optimizer function\n",
    "    : keep_probability: keep probability\n",
    "    : feature_batch: Batch of Numpy image data\n",
    "    : label_batch: Batch of Numpy label data\n",
    "    \"\"\"\n",
    "    # TODO: Implement Function\n",
    "    #x = neural_net_image_input((feature_batch.shape[1], feature_batch.shape[2], feature_batch.shape[3]))\n",
    "    #y = neural_net_label_input(label_batch.shape[1])\n",
    "    \n",
    "    #keep_prob = neural_net_keep_prob_input()\n",
    "\n",
    "    session.run(optimizer, \n",
    "                feed_dict={x: feature_batch, \n",
    "                           y: label_batch, \n",
    "                           keep_prob: keep_probability})\n",
    "    pass\n",
    "\n",
    "\n",
    "\"\"\"\n",
    "DON'T MODIFY ANYTHING IN THIS CELL THAT IS BELOW THIS LINE\n",
    "\"\"\"\n",
    "tests.test_train_nn(train_neural_network)"
   ]
  },
  {
   "cell_type": "markdown",
   "metadata": {
    "deletable": true,
    "editable": true
   },
   "source": [
    "### Show Stats\n",
    "Implement the function `print_stats` to print loss and validation accuracy.  Use the global variables `valid_features` and `valid_labels` to calculate validation accuracy.  Use a keep probability of `1.0` to calculate the loss and validation accuracy."
   ]
  },
  {
   "cell_type": "code",
   "execution_count": 15,
   "metadata": {
    "collapsed": false,
    "deletable": true,
    "editable": true
   },
   "outputs": [],
   "source": [
    "def print_stats(session, feature_batch, label_batch, cost, accuracy):\n",
    "    \"\"\"\n",
    "    Print information about loss and validation accuracy\n",
    "    : session: Current TensorFlow session\n",
    "    : feature_batch: Batch of Numpy image data\n",
    "    : label_batch: Batch of Numpy label data\n",
    "    : cost: TensorFlow cost function\n",
    "    : accuracy: TensorFlow accuracy function\n",
    "    \"\"\"\n",
    "    # TODO: Implement Function\n",
    "    \n",
    "    loss = session.run(cost, feed_dict = {x: feature_batch, y: label_batch, keep_prob : 1.})\n",
    "    val_accuracy = session.run(accuracy, feed_dict = {x: valid_features, y: valid_labels, keep_prob : 1.})\n",
    "    print('Loss: {:>10.4f} Validation Accuracy: {:.6f}'.format(loss, val_accuracy))\n",
    "    pass"
   ]
  },
  {
   "cell_type": "markdown",
   "metadata": {
    "deletable": true,
    "editable": true
   },
   "source": [
    "### Hyperparameters\n",
    "Tune the following parameters:\n",
    "* Set `epochs` to the number of iterations until the network stops learning or start overfitting\n",
    "* Set `batch_size` to the highest number that your machine has memory for.  Most people set them to common sizes of memory:\n",
    " * 64\n",
    " * 128\n",
    " * 256\n",
    " * ...\n",
    "* Set `keep_probability` to the probability of keeping a node using dropout"
   ]
  },
  {
   "cell_type": "code",
   "execution_count": 36,
   "metadata": {
    "collapsed": true,
    "deletable": true,
    "editable": true
   },
   "outputs": [],
   "source": [
    "# TODO: Tune Parameters\n",
    "epochs = 20\n",
    "batch_size = 2**8\n",
    "keep_probability = 0.5"
   ]
  },
  {
   "cell_type": "markdown",
   "metadata": {
    "deletable": true,
    "editable": true
   },
   "source": [
    "### Train on a Single CIFAR-10 Batch\n",
    "Instead of training the neural network on all the CIFAR-10 batches of data, let's use a single batch. This should save time while you iterate on the model to get a better accuracy.  Once the final validation accuracy is 50% or greater, run the model on all the data in the next section."
   ]
  },
  {
   "cell_type": "code",
   "execution_count": 35,
   "metadata": {
    "collapsed": false,
    "deletable": true,
    "editable": true
   },
   "outputs": [
    {
     "name": "stdout",
     "output_type": "stream",
     "text": [
      "Checking the Training on a Single Batch...\n",
      "Epoch  1, CIFAR-10 Batch 1:  Loss:     2.2356 Validation Accuracy: 0.179800\n",
      "Epoch  2, CIFAR-10 Batch 1:  Loss:     2.1277 Validation Accuracy: 0.259200\n",
      "Epoch  3, CIFAR-10 Batch 1:  Loss:     2.0255 Validation Accuracy: 0.272400\n",
      "Epoch  4, CIFAR-10 Batch 1:  Loss:     1.9731 Validation Accuracy: 0.286600\n",
      "Epoch  5, CIFAR-10 Batch 1:  Loss:     1.8346 Validation Accuracy: 0.316000\n",
      "Epoch  6, CIFAR-10 Batch 1:  Loss:     1.6511 Validation Accuracy: 0.322400\n",
      "Epoch  7, CIFAR-10 Batch 1:  Loss:     1.5071 Validation Accuracy: 0.331000\n",
      "Epoch  8, CIFAR-10 Batch 1:  Loss:     1.3894 Validation Accuracy: 0.332600\n",
      "Epoch  9, CIFAR-10 Batch 1:  Loss:     1.2772 Validation Accuracy: 0.337600\n",
      "Epoch 10, CIFAR-10 Batch 1:  Loss:     1.2267 Validation Accuracy: 0.338200\n",
      "Epoch 11, CIFAR-10 Batch 1:  Loss:     1.1948 Validation Accuracy: 0.343600\n",
      "Epoch 12, CIFAR-10 Batch 1:  Loss:     1.1340 Validation Accuracy: 0.326000\n",
      "Epoch 13, CIFAR-10 Batch 1:  Loss:     1.1142 Validation Accuracy: 0.329200\n",
      "Epoch 14, CIFAR-10 Batch 1:  Loss:     1.1645 Validation Accuracy: 0.316400\n",
      "Epoch 15, CIFAR-10 Batch 1:  Loss:     1.1552 Validation Accuracy: 0.329600\n",
      "Epoch 16, CIFAR-10 Batch 1:  Loss:     1.1543 Validation Accuracy: 0.327800\n",
      "Epoch 17, CIFAR-10 Batch 1:  Loss:     1.1577 Validation Accuracy: 0.319400\n",
      "Epoch 18, CIFAR-10 Batch 1:  Loss:     1.1545 Validation Accuracy: 0.327800\n",
      "Epoch 19, CIFAR-10 Batch 1:  Loss:     1.1580 Validation Accuracy: 0.328000\n",
      "Epoch 20, CIFAR-10 Batch 1:  Loss:     1.1556 Validation Accuracy: 0.336200\n",
      "Epoch 21, CIFAR-10 Batch 1:  Loss:     1.1529 Validation Accuracy: 0.363400\n",
      "Epoch 22, CIFAR-10 Batch 1:  Loss:     1.0946 Validation Accuracy: 0.360600\n",
      "Epoch 23, CIFAR-10 Batch 1:  Loss:     1.0956 Validation Accuracy: 0.333600\n",
      "Epoch 24, CIFAR-10 Batch 1:  Loss:     1.0943 Validation Accuracy: 0.350600\n",
      "Epoch 25, CIFAR-10 Batch 1:  Loss:     1.0943 Validation Accuracy: 0.346200\n",
      "Epoch 26, CIFAR-10 Batch 1:  Loss:     1.0948 Validation Accuracy: 0.346400\n",
      "Epoch 27, CIFAR-10 Batch 1:  Loss:     1.0944 Validation Accuracy: 0.333000\n",
      "Epoch 28, CIFAR-10 Batch 1:  Loss:     1.0938 Validation Accuracy: 0.338000\n",
      "Epoch 29, CIFAR-10 Batch 1:  Loss:     1.0939 Validation Accuracy: 0.325600\n",
      "Epoch 30, CIFAR-10 Batch 1:  Loss:     1.0938 Validation Accuracy: 0.336400\n",
      "Epoch 31, CIFAR-10 Batch 1:  Loss:     1.0938 Validation Accuracy: 0.337400\n",
      "Epoch 32, CIFAR-10 Batch 1:  Loss:     1.0938 Validation Accuracy: 0.343800\n",
      "Epoch 33, CIFAR-10 Batch 1:  Loss:     1.0937 Validation Accuracy: 0.342600\n",
      "Epoch 34, CIFAR-10 Batch 1:  Loss:     1.0937 Validation Accuracy: 0.340600\n",
      "Epoch 35, CIFAR-10 Batch 1:  Loss:     1.0937 Validation Accuracy: 0.347200\n",
      "Epoch 36, CIFAR-10 Batch 1:  Loss:     1.0937 Validation Accuracy: 0.347200\n",
      "Epoch 37, CIFAR-10 Batch 1:  Loss:     1.0937 Validation Accuracy: 0.349600\n",
      "Epoch 38, CIFAR-10 Batch 1:  Loss:     1.0937 Validation Accuracy: 0.347600\n",
      "Epoch 39, CIFAR-10 Batch 1:  Loss:     1.0937 Validation Accuracy: 0.348600\n",
      "Epoch 40, CIFAR-10 Batch 1:  Loss:     1.0937 Validation Accuracy: 0.351000\n",
      "Epoch 41, CIFAR-10 Batch 1:  Loss:     1.0937 Validation Accuracy: 0.351000\n",
      "Epoch 42, CIFAR-10 Batch 1:  Loss:     1.0937 Validation Accuracy: 0.351600\n",
      "Epoch 43, CIFAR-10 Batch 1:  Loss:     1.0937 Validation Accuracy: 0.344200\n",
      "Epoch 44, CIFAR-10 Batch 1:  Loss:     1.0937 Validation Accuracy: 0.347000\n",
      "Epoch 45, CIFAR-10 Batch 1:  Loss:     1.0937 Validation Accuracy: 0.348200\n",
      "Epoch 46, CIFAR-10 Batch 1:  Loss:     1.0937 Validation Accuracy: 0.349400\n",
      "Epoch 47, CIFAR-10 Batch 1:  Loss:     1.0937 Validation Accuracy: 0.349600\n",
      "Epoch 48, CIFAR-10 Batch 1:  Loss:     1.0937 Validation Accuracy: 0.349400\n",
      "Epoch 49, CIFAR-10 Batch 1:  Loss:     1.0937 Validation Accuracy: 0.347400\n",
      "Epoch 50, CIFAR-10 Batch 1:  Loss:     1.0937 Validation Accuracy: 0.347200\n",
      "Epoch 51, CIFAR-10 Batch 1:  Loss:     1.0937 Validation Accuracy: 0.349200\n",
      "Epoch 52, CIFAR-10 Batch 1:  Loss:     1.0937 Validation Accuracy: 0.349400\n",
      "Epoch 53, CIFAR-10 Batch 1:  Loss:     1.0937 Validation Accuracy: 0.348200\n",
      "Epoch 54, CIFAR-10 Batch 1:  Loss:     1.0937 Validation Accuracy: 0.349600\n",
      "Epoch 55, CIFAR-10 Batch 1:  Loss:     1.0937 Validation Accuracy: 0.349600\n",
      "Epoch 56, CIFAR-10 Batch 1:  Loss:     1.0937 Validation Accuracy: 0.349400\n",
      "Epoch 57, CIFAR-10 Batch 1:  Loss:     1.0937 Validation Accuracy: 0.346800\n",
      "Epoch 58, CIFAR-10 Batch 1:  Loss:     1.0937 Validation Accuracy: 0.348600\n",
      "Epoch 59, CIFAR-10 Batch 1:  Loss:     1.0937 Validation Accuracy: 0.348800\n",
      "Epoch 60, CIFAR-10 Batch 1:  Loss:     1.0937 Validation Accuracy: 0.349600\n",
      "Epoch 61, CIFAR-10 Batch 1:  Loss:     1.0937 Validation Accuracy: 0.349200\n",
      "Epoch 62, CIFAR-10 Batch 1:  Loss:     1.0937 Validation Accuracy: 0.350600\n",
      "Epoch 63, CIFAR-10 Batch 1:  Loss:     1.0937 Validation Accuracy: 0.350800\n",
      "Epoch 64, CIFAR-10 Batch 1:  Loss:     1.0937 Validation Accuracy: 0.349400\n",
      "Epoch 65, CIFAR-10 Batch 1:  Loss:     1.0937 Validation Accuracy: 0.349400\n",
      "Epoch 66, CIFAR-10 Batch 1:  Loss:     1.0937 Validation Accuracy: 0.350200\n",
      "Epoch 67, CIFAR-10 Batch 1:  Loss:     1.0937 Validation Accuracy: 0.349600\n",
      "Epoch 68, CIFAR-10 Batch 1:  Loss:     1.0937 Validation Accuracy: 0.348800\n",
      "Epoch 69, CIFAR-10 Batch 1:  Loss:     1.0937 Validation Accuracy: 0.348800\n",
      "Epoch 70, CIFAR-10 Batch 1:  Loss:     1.0937 Validation Accuracy: 0.346400\n",
      "Epoch 71, CIFAR-10 Batch 1:  Loss:     1.0937 Validation Accuracy: 0.345600\n",
      "Epoch 72, CIFAR-10 Batch 1:  Loss:     1.0937 Validation Accuracy: 0.347000\n",
      "Epoch 73, CIFAR-10 Batch 1:  Loss:     1.0937 Validation Accuracy: 0.345800\n",
      "Epoch 74, CIFAR-10 Batch 1:  Loss:     1.0937 Validation Accuracy: 0.347600\n",
      "Epoch 75, CIFAR-10 Batch 1:  Loss:     1.0937 Validation Accuracy: 0.348600\n",
      "Epoch 76, CIFAR-10 Batch 1:  Loss:     1.0937 Validation Accuracy: 0.348600\n",
      "Epoch 77, CIFAR-10 Batch 1:  Loss:     1.0937 Validation Accuracy: 0.349400\n"
     ]
    },
    {
     "ename": "KeyboardInterrupt",
     "evalue": "",
     "output_type": "error",
     "traceback": [
      "\u001b[0;31m---------------------------------------------------------------------------\u001b[0m",
      "\u001b[0;31mKeyboardInterrupt\u001b[0m                         Traceback (most recent call last)",
      "\u001b[0;32m<ipython-input-35-0ebd1bbc35ad>\u001b[0m in \u001b[0;36m<module>\u001b[0;34m()\u001b[0m\n\u001b[1;32m     11\u001b[0m         \u001b[0mbatch_i\u001b[0m \u001b[0;34m=\u001b[0m \u001b[0;36m1\u001b[0m\u001b[0;34m\u001b[0m\u001b[0m\n\u001b[1;32m     12\u001b[0m         \u001b[0;32mfor\u001b[0m \u001b[0mbatch_features\u001b[0m\u001b[0;34m,\u001b[0m \u001b[0mbatch_labels\u001b[0m \u001b[0;32min\u001b[0m \u001b[0mhelper\u001b[0m\u001b[0;34m.\u001b[0m\u001b[0mload_preprocess_training_batch\u001b[0m\u001b[0;34m(\u001b[0m\u001b[0mbatch_i\u001b[0m\u001b[0;34m,\u001b[0m \u001b[0mbatch_size\u001b[0m\u001b[0;34m)\u001b[0m\u001b[0;34m:\u001b[0m\u001b[0;34m\u001b[0m\u001b[0m\n\u001b[0;32m---> 13\u001b[0;31m             \u001b[0mtrain_neural_network\u001b[0m\u001b[0;34m(\u001b[0m\u001b[0msess\u001b[0m\u001b[0;34m,\u001b[0m \u001b[0moptimizer\u001b[0m\u001b[0;34m,\u001b[0m \u001b[0mkeep_probability\u001b[0m\u001b[0;34m,\u001b[0m \u001b[0mbatch_features\u001b[0m\u001b[0;34m,\u001b[0m \u001b[0mbatch_labels\u001b[0m\u001b[0;34m)\u001b[0m\u001b[0;34m\u001b[0m\u001b[0m\n\u001b[0m\u001b[1;32m     14\u001b[0m         \u001b[0mprint\u001b[0m\u001b[0;34m(\u001b[0m\u001b[0;34m'Epoch {:>2}, CIFAR-10 Batch {}:  '\u001b[0m\u001b[0;34m.\u001b[0m\u001b[0mformat\u001b[0m\u001b[0;34m(\u001b[0m\u001b[0mepoch\u001b[0m \u001b[0;34m+\u001b[0m \u001b[0;36m1\u001b[0m\u001b[0;34m,\u001b[0m \u001b[0mbatch_i\u001b[0m\u001b[0;34m)\u001b[0m\u001b[0;34m,\u001b[0m \u001b[0mend\u001b[0m\u001b[0;34m=\u001b[0m\u001b[0;34m''\u001b[0m\u001b[0;34m)\u001b[0m\u001b[0;34m\u001b[0m\u001b[0m\n\u001b[1;32m     15\u001b[0m         \u001b[0mprint_stats\u001b[0m\u001b[0;34m(\u001b[0m\u001b[0msess\u001b[0m\u001b[0;34m,\u001b[0m \u001b[0mbatch_features\u001b[0m\u001b[0;34m,\u001b[0m \u001b[0mbatch_labels\u001b[0m\u001b[0;34m,\u001b[0m \u001b[0mcost\u001b[0m\u001b[0;34m,\u001b[0m \u001b[0maccuracy\u001b[0m\u001b[0;34m)\u001b[0m\u001b[0;34m\u001b[0m\u001b[0m\n",
      "\u001b[0;32m<ipython-input-14-02accf9592f3>\u001b[0m in \u001b[0;36mtrain_neural_network\u001b[0;34m(session, optimizer, keep_probability, feature_batch, label_batch)\u001b[0m\n\u001b[1;32m     17\u001b[0m                 feed_dict={x: feature_batch, \n\u001b[1;32m     18\u001b[0m                            \u001b[0my\u001b[0m\u001b[0;34m:\u001b[0m \u001b[0mlabel_batch\u001b[0m\u001b[0;34m,\u001b[0m\u001b[0;34m\u001b[0m\u001b[0m\n\u001b[0;32m---> 19\u001b[0;31m                            keep_prob: keep_probability})\n\u001b[0m\u001b[1;32m     20\u001b[0m     \u001b[0;32mpass\u001b[0m\u001b[0;34m\u001b[0m\u001b[0m\n\u001b[1;32m     21\u001b[0m \u001b[0;34m\u001b[0m\u001b[0m\n",
      "\u001b[0;32m/home/carnd/anaconda3/envs/dl/lib/python3.5/site-packages/tensorflow/python/client/session.py\u001b[0m in \u001b[0;36mrun\u001b[0;34m(self, fetches, feed_dict, options, run_metadata)\u001b[0m\n\u001b[1;32m    765\u001b[0m     \u001b[0;32mtry\u001b[0m\u001b[0;34m:\u001b[0m\u001b[0;34m\u001b[0m\u001b[0m\n\u001b[1;32m    766\u001b[0m       result = self._run(None, fetches, feed_dict, options_ptr,\n\u001b[0;32m--> 767\u001b[0;31m                          run_metadata_ptr)\n\u001b[0m\u001b[1;32m    768\u001b[0m       \u001b[0;32mif\u001b[0m \u001b[0mrun_metadata\u001b[0m\u001b[0;34m:\u001b[0m\u001b[0;34m\u001b[0m\u001b[0m\n\u001b[1;32m    769\u001b[0m         \u001b[0mproto_data\u001b[0m \u001b[0;34m=\u001b[0m \u001b[0mtf_session\u001b[0m\u001b[0;34m.\u001b[0m\u001b[0mTF_GetBuffer\u001b[0m\u001b[0;34m(\u001b[0m\u001b[0mrun_metadata_ptr\u001b[0m\u001b[0;34m)\u001b[0m\u001b[0;34m\u001b[0m\u001b[0m\n",
      "\u001b[0;32m/home/carnd/anaconda3/envs/dl/lib/python3.5/site-packages/tensorflow/python/client/session.py\u001b[0m in \u001b[0;36m_run\u001b[0;34m(self, handle, fetches, feed_dict, options, run_metadata)\u001b[0m\n\u001b[1;32m    963\u001b[0m     \u001b[0;32mif\u001b[0m \u001b[0mfinal_fetches\u001b[0m \u001b[0;32mor\u001b[0m \u001b[0mfinal_targets\u001b[0m\u001b[0;34m:\u001b[0m\u001b[0;34m\u001b[0m\u001b[0m\n\u001b[1;32m    964\u001b[0m       results = self._do_run(handle, final_targets, final_fetches,\n\u001b[0;32m--> 965\u001b[0;31m                              feed_dict_string, options, run_metadata)\n\u001b[0m\u001b[1;32m    966\u001b[0m     \u001b[0;32melse\u001b[0m\u001b[0;34m:\u001b[0m\u001b[0;34m\u001b[0m\u001b[0m\n\u001b[1;32m    967\u001b[0m       \u001b[0mresults\u001b[0m \u001b[0;34m=\u001b[0m \u001b[0;34m[\u001b[0m\u001b[0;34m]\u001b[0m\u001b[0;34m\u001b[0m\u001b[0m\n",
      "\u001b[0;32m/home/carnd/anaconda3/envs/dl/lib/python3.5/site-packages/tensorflow/python/client/session.py\u001b[0m in \u001b[0;36m_do_run\u001b[0;34m(self, handle, target_list, fetch_list, feed_dict, options, run_metadata)\u001b[0m\n\u001b[1;32m   1013\u001b[0m     \u001b[0;32mif\u001b[0m \u001b[0mhandle\u001b[0m \u001b[0;32mis\u001b[0m \u001b[0;32mNone\u001b[0m\u001b[0;34m:\u001b[0m\u001b[0;34m\u001b[0m\u001b[0m\n\u001b[1;32m   1014\u001b[0m       return self._do_call(_run_fn, self._session, feed_dict, fetch_list,\n\u001b[0;32m-> 1015\u001b[0;31m                            target_list, options, run_metadata)\n\u001b[0m\u001b[1;32m   1016\u001b[0m     \u001b[0;32melse\u001b[0m\u001b[0;34m:\u001b[0m\u001b[0;34m\u001b[0m\u001b[0m\n\u001b[1;32m   1017\u001b[0m       return self._do_call(_prun_fn, self._session, handle, feed_dict,\n",
      "\u001b[0;32m/home/carnd/anaconda3/envs/dl/lib/python3.5/site-packages/tensorflow/python/client/session.py\u001b[0m in \u001b[0;36m_do_call\u001b[0;34m(self, fn, *args)\u001b[0m\n\u001b[1;32m   1020\u001b[0m   \u001b[0;32mdef\u001b[0m \u001b[0m_do_call\u001b[0m\u001b[0;34m(\u001b[0m\u001b[0mself\u001b[0m\u001b[0;34m,\u001b[0m \u001b[0mfn\u001b[0m\u001b[0;34m,\u001b[0m \u001b[0;34m*\u001b[0m\u001b[0margs\u001b[0m\u001b[0;34m)\u001b[0m\u001b[0;34m:\u001b[0m\u001b[0;34m\u001b[0m\u001b[0m\n\u001b[1;32m   1021\u001b[0m     \u001b[0;32mtry\u001b[0m\u001b[0;34m:\u001b[0m\u001b[0;34m\u001b[0m\u001b[0m\n\u001b[0;32m-> 1022\u001b[0;31m       \u001b[0;32mreturn\u001b[0m \u001b[0mfn\u001b[0m\u001b[0;34m(\u001b[0m\u001b[0;34m*\u001b[0m\u001b[0margs\u001b[0m\u001b[0;34m)\u001b[0m\u001b[0;34m\u001b[0m\u001b[0m\n\u001b[0m\u001b[1;32m   1023\u001b[0m     \u001b[0;32mexcept\u001b[0m \u001b[0merrors\u001b[0m\u001b[0;34m.\u001b[0m\u001b[0mOpError\u001b[0m \u001b[0;32mas\u001b[0m \u001b[0me\u001b[0m\u001b[0;34m:\u001b[0m\u001b[0;34m\u001b[0m\u001b[0m\n\u001b[1;32m   1024\u001b[0m       \u001b[0mmessage\u001b[0m \u001b[0;34m=\u001b[0m \u001b[0mcompat\u001b[0m\u001b[0;34m.\u001b[0m\u001b[0mas_text\u001b[0m\u001b[0;34m(\u001b[0m\u001b[0me\u001b[0m\u001b[0;34m.\u001b[0m\u001b[0mmessage\u001b[0m\u001b[0;34m)\u001b[0m\u001b[0;34m\u001b[0m\u001b[0m\n",
      "\u001b[0;32m/home/carnd/anaconda3/envs/dl/lib/python3.5/site-packages/tensorflow/python/client/session.py\u001b[0m in \u001b[0;36m_run_fn\u001b[0;34m(session, feed_dict, fetch_list, target_list, options, run_metadata)\u001b[0m\n\u001b[1;32m   1002\u001b[0m         return tf_session.TF_Run(session, options,\n\u001b[1;32m   1003\u001b[0m                                  \u001b[0mfeed_dict\u001b[0m\u001b[0;34m,\u001b[0m \u001b[0mfetch_list\u001b[0m\u001b[0;34m,\u001b[0m \u001b[0mtarget_list\u001b[0m\u001b[0;34m,\u001b[0m\u001b[0;34m\u001b[0m\u001b[0m\n\u001b[0;32m-> 1004\u001b[0;31m                                  status, run_metadata)\n\u001b[0m\u001b[1;32m   1005\u001b[0m \u001b[0;34m\u001b[0m\u001b[0m\n\u001b[1;32m   1006\u001b[0m     \u001b[0;32mdef\u001b[0m \u001b[0m_prun_fn\u001b[0m\u001b[0;34m(\u001b[0m\u001b[0msession\u001b[0m\u001b[0;34m,\u001b[0m \u001b[0mhandle\u001b[0m\u001b[0;34m,\u001b[0m \u001b[0mfeed_dict\u001b[0m\u001b[0;34m,\u001b[0m \u001b[0mfetch_list\u001b[0m\u001b[0;34m)\u001b[0m\u001b[0;34m:\u001b[0m\u001b[0;34m\u001b[0m\u001b[0m\n",
      "\u001b[0;31mKeyboardInterrupt\u001b[0m: "
     ]
    }
   ],
   "source": [
    "\"\"\"\n",
    "DON'T MODIFY ANYTHING IN THIS CELL\n",
    "\"\"\"\n",
    "print('Checking the Training on a Single Batch...')\n",
    "with tf.Session() as sess:\n",
    "    # Initializing the variables\n",
    "    sess.run(tf.global_variables_initializer())\n",
    "    \n",
    "    # Training cycle\n",
    "    for epoch in range(epochs):\n",
    "        batch_i = 1\n",
    "        for batch_features, batch_labels in helper.load_preprocess_training_batch(batch_i, batch_size):\n",
    "            train_neural_network(sess, optimizer, keep_probability, batch_features, batch_labels)\n",
    "        print('Epoch {:>2}, CIFAR-10 Batch {}:  '.format(epoch + 1, batch_i), end='')\n",
    "        print_stats(sess, batch_features, batch_labels, cost, accuracy)"
   ]
  },
  {
   "cell_type": "markdown",
   "metadata": {
    "deletable": true,
    "editable": true
   },
   "source": [
    "### Fully Train the Model\n",
    "Now that you got a good accuracy with a single CIFAR-10 batch, try it with all five batches."
   ]
  },
  {
   "cell_type": "code",
   "execution_count": 37,
   "metadata": {
    "collapsed": false,
    "deletable": true,
    "editable": true
   },
   "outputs": [
    {
     "name": "stdout",
     "output_type": "stream",
     "text": [
      "Training...\n",
      "Epoch  1, CIFAR-10 Batch 1:  Loss:     2.1759 Validation Accuracy: 0.243000\n",
      "Epoch  1, CIFAR-10 Batch 2:  Loss:     2.0792 Validation Accuracy: 0.306000\n",
      "Epoch  1, CIFAR-10 Batch 3:  Loss:     1.5899 Validation Accuracy: 0.363000\n",
      "Epoch  1, CIFAR-10 Batch 4:  Loss:     1.8023 Validation Accuracy: 0.401000\n",
      "Epoch  1, CIFAR-10 Batch 5:  Loss:     1.7323 Validation Accuracy: 0.402400\n",
      "Epoch  2, CIFAR-10 Batch 1:  Loss:     1.6206 Validation Accuracy: 0.430400\n",
      "Epoch  2, CIFAR-10 Batch 2:  Loss:     1.5334 Validation Accuracy: 0.446200\n",
      "Epoch  2, CIFAR-10 Batch 3:  Loss:     1.1426 Validation Accuracy: 0.458400\n",
      "Epoch  2, CIFAR-10 Batch 4:  Loss:     1.4355 Validation Accuracy: 0.477200\n",
      "Epoch  2, CIFAR-10 Batch 5:  Loss:     1.3128 Validation Accuracy: 0.535800\n",
      "Epoch  3, CIFAR-10 Batch 1:  Loss:     1.2946 Validation Accuracy: 0.515400\n",
      "Epoch  3, CIFAR-10 Batch 2:  Loss:     0.9860 Validation Accuracy: 0.539200\n",
      "Epoch  3, CIFAR-10 Batch 3:  Loss:     0.7500 Validation Accuracy: 0.553400\n",
      "Epoch  3, CIFAR-10 Batch 4:  Loss:     0.9853 Validation Accuracy: 0.559200\n",
      "Epoch  3, CIFAR-10 Batch 5:  Loss:     0.9080 Validation Accuracy: 0.583600\n",
      "Epoch  4, CIFAR-10 Batch 1:  Loss:     0.8984 Validation Accuracy: 0.572400\n",
      "Epoch  4, CIFAR-10 Batch 2:  Loss:     0.6299 Validation Accuracy: 0.582600\n",
      "Epoch  4, CIFAR-10 Batch 3:  Loss:     0.4704 Validation Accuracy: 0.590200\n",
      "Epoch  4, CIFAR-10 Batch 4:  Loss:     0.7496 Validation Accuracy: 0.597800\n",
      "Epoch  4, CIFAR-10 Batch 5:  Loss:     0.6037 Validation Accuracy: 0.597600\n",
      "Epoch  5, CIFAR-10 Batch 1:  Loss:     0.6135 Validation Accuracy: 0.599800\n",
      "Epoch  5, CIFAR-10 Batch 2:  Loss:     0.3406 Validation Accuracy: 0.606800\n",
      "Epoch  5, CIFAR-10 Batch 3:  Loss:     0.3031 Validation Accuracy: 0.601400\n",
      "Epoch  5, CIFAR-10 Batch 4:  Loss:     0.5793 Validation Accuracy: 0.605800\n",
      "Epoch  5, CIFAR-10 Batch 5:  Loss:     0.3995 Validation Accuracy: 0.620400\n",
      "Epoch  6, CIFAR-10 Batch 1:  Loss:     0.4428 Validation Accuracy: 0.613200\n",
      "Epoch  6, CIFAR-10 Batch 2:  Loss:     0.2165 Validation Accuracy: 0.609800\n",
      "Epoch  6, CIFAR-10 Batch 3:  Loss:     0.2020 Validation Accuracy: 0.631600\n",
      "Epoch  6, CIFAR-10 Batch 4:  Loss:     0.4976 Validation Accuracy: 0.621200\n",
      "Epoch  6, CIFAR-10 Batch 5:  Loss:     0.3038 Validation Accuracy: 0.627200\n",
      "Epoch  7, CIFAR-10 Batch 1:  Loss:     0.3373 Validation Accuracy: 0.611800\n",
      "Epoch  7, CIFAR-10 Batch 2:  Loss:     0.1647 Validation Accuracy: 0.612000\n",
      "Epoch  7, CIFAR-10 Batch 3:  Loss:     0.1595 Validation Accuracy: 0.633200\n",
      "Epoch  7, CIFAR-10 Batch 4:  Loss:     0.4691 Validation Accuracy: 0.614600\n",
      "Epoch  7, CIFAR-10 Batch 5:  Loss:     0.2826 Validation Accuracy: 0.624400\n",
      "Epoch  8, CIFAR-10 Batch 1:  Loss:     0.2715 Validation Accuracy: 0.630200\n",
      "Epoch  8, CIFAR-10 Batch 2:  Loss:     0.1432 Validation Accuracy: 0.631600\n",
      "Epoch  8, CIFAR-10 Batch 3:  Loss:     0.1362 Validation Accuracy: 0.627000\n",
      "Epoch  8, CIFAR-10 Batch 4:  Loss:     0.3996 Validation Accuracy: 0.613000\n",
      "Epoch  8, CIFAR-10 Batch 5:  Loss:     0.2713 Validation Accuracy: 0.632600\n",
      "Epoch  9, CIFAR-10 Batch 1:  Loss:     0.2573 Validation Accuracy: 0.620200\n",
      "Epoch  9, CIFAR-10 Batch 2:  Loss:     0.1302 Validation Accuracy: 0.611800\n",
      "Epoch  9, CIFAR-10 Batch 3:  Loss:     0.1359 Validation Accuracy: 0.610200\n",
      "Epoch  9, CIFAR-10 Batch 4:  Loss:     0.3737 Validation Accuracy: 0.617600\n",
      "Epoch  9, CIFAR-10 Batch 5:  Loss:     0.2611 Validation Accuracy: 0.632600\n",
      "Epoch 10, CIFAR-10 Batch 1:  Loss:     0.2514 Validation Accuracy: 0.607800\n",
      "Epoch 10, CIFAR-10 Batch 2:  Loss:     0.1269 Validation Accuracy: 0.636800\n",
      "Epoch 10, CIFAR-10 Batch 3:  Loss:     0.1315 Validation Accuracy: 0.626200\n",
      "Epoch 10, CIFAR-10 Batch 4:  Loss:     0.3694 Validation Accuracy: 0.610400\n",
      "Epoch 10, CIFAR-10 Batch 5:  Loss:     0.2477 Validation Accuracy: 0.617000\n",
      "Epoch 11, CIFAR-10 Batch 1:  Loss:     0.2384 Validation Accuracy: 0.639800\n",
      "Epoch 11, CIFAR-10 Batch 2:  Loss:     0.1261 Validation Accuracy: 0.622400\n",
      "Epoch 11, CIFAR-10 Batch 3:  Loss:     0.1244 Validation Accuracy: 0.627000\n",
      "Epoch 11, CIFAR-10 Batch 4:  Loss:     0.3550 Validation Accuracy: 0.613600\n",
      "Epoch 11, CIFAR-10 Batch 5:  Loss:     0.2358 Validation Accuracy: 0.636200\n",
      "Epoch 12, CIFAR-10 Batch 1:  Loss:     0.2400 Validation Accuracy: 0.636800\n",
      "Epoch 12, CIFAR-10 Batch 2:  Loss:     0.1186 Validation Accuracy: 0.631400\n",
      "Epoch 12, CIFAR-10 Batch 3:  Loss:     0.1179 Validation Accuracy: 0.632000\n",
      "Epoch 12, CIFAR-10 Batch 4:  Loss:     0.3498 Validation Accuracy: 0.629200\n",
      "Epoch 12, CIFAR-10 Batch 5:  Loss:     0.2370 Validation Accuracy: 0.640400\n",
      "Epoch 13, CIFAR-10 Batch 1:  Loss:     0.2369 Validation Accuracy: 0.634000\n",
      "Epoch 13, CIFAR-10 Batch 2:  Loss:     0.1229 Validation Accuracy: 0.631600\n",
      "Epoch 13, CIFAR-10 Batch 3:  Loss:     0.1184 Validation Accuracy: 0.625000\n",
      "Epoch 13, CIFAR-10 Batch 4:  Loss:     0.3488 Validation Accuracy: 0.641200\n",
      "Epoch 13, CIFAR-10 Batch 5:  Loss:     0.2339 Validation Accuracy: 0.632800\n",
      "Epoch 14, CIFAR-10 Batch 1:  Loss:     0.2379 Validation Accuracy: 0.629400\n",
      "Epoch 14, CIFAR-10 Batch 2:  Loss:     0.1159 Validation Accuracy: 0.634000\n",
      "Epoch 14, CIFAR-10 Batch 3:  Loss:     0.1195 Validation Accuracy: 0.631600\n",
      "Epoch 14, CIFAR-10 Batch 4:  Loss:     0.3486 Validation Accuracy: 0.640800\n",
      "Epoch 14, CIFAR-10 Batch 5:  Loss:     0.2348 Validation Accuracy: 0.640400\n",
      "Epoch 15, CIFAR-10 Batch 1:  Loss:     0.2320 Validation Accuracy: 0.621800\n",
      "Epoch 15, CIFAR-10 Batch 2:  Loss:     0.1163 Validation Accuracy: 0.637600\n",
      "Epoch 15, CIFAR-10 Batch 3:  Loss:     0.1193 Validation Accuracy: 0.633200\n",
      "Epoch 15, CIFAR-10 Batch 4:  Loss:     0.3479 Validation Accuracy: 0.649400\n",
      "Epoch 15, CIFAR-10 Batch 5:  Loss:     0.2317 Validation Accuracy: 0.636800\n",
      "Epoch 16, CIFAR-10 Batch 1:  Loss:     0.2309 Validation Accuracy: 0.624600\n",
      "Epoch 16, CIFAR-10 Batch 2:  Loss:     0.1180 Validation Accuracy: 0.639400\n",
      "Epoch 16, CIFAR-10 Batch 3:  Loss:     0.1155 Validation Accuracy: 0.640000\n",
      "Epoch 16, CIFAR-10 Batch 4:  Loss:     0.3489 Validation Accuracy: 0.608800\n",
      "Epoch 16, CIFAR-10 Batch 5:  Loss:     0.2331 Validation Accuracy: 0.624200\n",
      "Epoch 17, CIFAR-10 Batch 1:  Loss:     0.2315 Validation Accuracy: 0.629400\n",
      "Epoch 17, CIFAR-10 Batch 2:  Loss:     0.1156 Validation Accuracy: 0.638800\n",
      "Epoch 17, CIFAR-10 Batch 3:  Loss:     0.1158 Validation Accuracy: 0.637400\n",
      "Epoch 17, CIFAR-10 Batch 4:  Loss:     0.3467 Validation Accuracy: 0.620600\n",
      "Epoch 17, CIFAR-10 Batch 5:  Loss:     0.2324 Validation Accuracy: 0.628200\n",
      "Epoch 18, CIFAR-10 Batch 1:  Loss:     0.2308 Validation Accuracy: 0.633000\n",
      "Epoch 18, CIFAR-10 Batch 2:  Loss:     0.1157 Validation Accuracy: 0.636400\n",
      "Epoch 18, CIFAR-10 Batch 3:  Loss:     0.1157 Validation Accuracy: 0.638000\n",
      "Epoch 18, CIFAR-10 Batch 4:  Loss:     0.3473 Validation Accuracy: 0.637000\n",
      "Epoch 18, CIFAR-10 Batch 5:  Loss:     0.2309 Validation Accuracy: 0.638600\n",
      "Epoch 19, CIFAR-10 Batch 1:  Loss:     0.2310 Validation Accuracy: 0.643600\n",
      "Epoch 19, CIFAR-10 Batch 2:  Loss:     0.1155 Validation Accuracy: 0.642000\n",
      "Epoch 19, CIFAR-10 Batch 3:  Loss:     0.1154 Validation Accuracy: 0.636000\n",
      "Epoch 19, CIFAR-10 Batch 4:  Loss:     0.3455 Validation Accuracy: 0.638600\n",
      "Epoch 19, CIFAR-10 Batch 5:  Loss:     0.2305 Validation Accuracy: 0.639000\n",
      "Epoch 20, CIFAR-10 Batch 1:  Loss:     0.2304 Validation Accuracy: 0.645200\n",
      "Epoch 20, CIFAR-10 Batch 2:  Loss:     0.1153 Validation Accuracy: 0.638800\n",
      "Epoch 20, CIFAR-10 Batch 3:  Loss:     0.1155 Validation Accuracy: 0.640600\n",
      "Epoch 20, CIFAR-10 Batch 4:  Loss:     0.3457 Validation Accuracy: 0.641800\n",
      "Epoch 20, CIFAR-10 Batch 5:  Loss:     0.2309 Validation Accuracy: 0.645800\n"
     ]
    }
   ],
   "source": [
    "\"\"\"\n",
    "DON'T MODIFY ANYTHING IN THIS CELL\n",
    "\"\"\"\n",
    "save_model_path = './image_classification'\n",
    "\n",
    "print('Training...')\n",
    "with tf.Session() as sess:\n",
    "    # Initializing the variables\n",
    "    sess.run(tf.global_variables_initializer())\n",
    "    \n",
    "    # Training cycle\n",
    "    for epoch in range(epochs):\n",
    "        # Loop over all batches\n",
    "        n_batches = 5\n",
    "        for batch_i in range(1, n_batches + 1):\n",
    "            for batch_features, batch_labels in helper.load_preprocess_training_batch(batch_i, batch_size):\n",
    "                train_neural_network(sess, optimizer, keep_probability, batch_features, batch_labels)\n",
    "            print('Epoch {:>2}, CIFAR-10 Batch {}:  '.format(epoch + 1, batch_i), end='')\n",
    "            print_stats(sess, batch_features, batch_labels, cost, accuracy)\n",
    "            \n",
    "    # Save Model\n",
    "    saver = tf.train.Saver()\n",
    "    save_path = saver.save(sess, save_model_path)"
   ]
  },
  {
   "cell_type": "markdown",
   "metadata": {
    "deletable": true,
    "editable": true
   },
   "source": [
    "# Checkpoint\n",
    "The model has been saved to disk.\n",
    "## Test Model\n",
    "Test your model against the test dataset.  This will be your final accuracy. You should have an accuracy greater than 50%. If you don't, keep tweaking the model architecture and parameters."
   ]
  },
  {
   "cell_type": "code",
   "execution_count": 41,
   "metadata": {
    "collapsed": false,
    "deletable": true,
    "editable": true
   },
   "outputs": [
    {
     "name": "stdout",
     "output_type": "stream",
     "text": [
      "Testing Accuracy: 0.64169921875\n",
      "\n"
     ]
    },
    {
     "data": {
      "image/png": "iVBORw0KGgoAAAANSUhEUgAAAscAAAJ/CAYAAACUb342AAAABHNCSVQICAgIfAhkiAAAAAlwSFlz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\nRBIFxyIiIiIiyf8PSHZxAAB8q/sAAAAASUVORK5CYII=\n",
      "text/plain": [
       "<matplotlib.figure.Figure at 0x7fe5b46cce10>"
      ]
     },
     "metadata": {
      "image/png": {
       "height": 319,
       "width": 355
      }
     },
     "output_type": "display_data"
    }
   ],
   "source": [
    "\"\"\"\n",
    "DON'T MODIFY ANYTHING IN THIS CELL\n",
    "\"\"\"\n",
    "%matplotlib inline\n",
    "%config InlineBackend.figure_format = 'retina'\n",
    "\n",
    "import tensorflow as tf\n",
    "import pickle\n",
    "import helper\n",
    "import random\n",
    "\n",
    "# Set batch size if not already set\n",
    "try:\n",
    "    if batch_size:\n",
    "        pass\n",
    "except NameError:\n",
    "    batch_size = 64\n",
    "\n",
    "save_model_path = './image_classification'\n",
    "n_samples = 4\n",
    "top_n_predictions = 3\n",
    "\n",
    "def test_model():\n",
    "    \"\"\"\n",
    "    Test the saved model against the test dataset\n",
    "    \"\"\"\n",
    "\n",
    "    test_features, test_labels = pickle.load(open('preprocess_training.p', mode='rb'))\n",
    "    loaded_graph = tf.Graph()\n",
    "\n",
    "    with tf.Session(graph=loaded_graph) as sess:\n",
    "        # Load model\n",
    "        loader = tf.train.import_meta_graph(save_model_path + '.meta')\n",
    "        loader.restore(sess, save_model_path)\n",
    "\n",
    "        # Get Tensors from loaded model\n",
    "        loaded_x = loaded_graph.get_tensor_by_name('x:0')\n",
    "        loaded_y = loaded_graph.get_tensor_by_name('y:0')\n",
    "        loaded_keep_prob = loaded_graph.get_tensor_by_name('keep_prob:0')\n",
    "        loaded_logits = loaded_graph.get_tensor_by_name('logits:0')\n",
    "        loaded_acc = loaded_graph.get_tensor_by_name('accuracy:0')\n",
    "        \n",
    "        # Get accuracy in batches for memory limitations\n",
    "        test_batch_acc_total = 0\n",
    "        test_batch_count = 0\n",
    "        \n",
    "        for train_feature_batch, train_label_batch in helper.batch_features_labels(test_features, test_labels, batch_size):\n",
    "            test_batch_acc_total += sess.run(\n",
    "                loaded_acc,\n",
    "                feed_dict={loaded_x: train_feature_batch, loaded_y: train_label_batch, loaded_keep_prob: 1.0})\n",
    "            test_batch_count += 1\n",
    "\n",
    "        print('Testing Accuracy: {}\\n'.format(test_batch_acc_total/test_batch_count))\n",
    "\n",
    "        # Print Random Samples\n",
    "        random_test_features, random_test_labels = tuple(zip(*random.sample(list(zip(test_features, test_labels)), n_samples)))\n",
    "        random_test_predictions = sess.run(\n",
    "            tf.nn.top_k(tf.nn.softmax(loaded_logits), top_n_predictions),\n",
    "            feed_dict={loaded_x: random_test_features, loaded_y: random_test_labels, loaded_keep_prob: 1.0})\n",
    "        helper.display_image_predictions(random_test_features, random_test_labels, random_test_predictions)\n",
    "\n",
    "\n",
    "test_model()"
   ]
  },
  
